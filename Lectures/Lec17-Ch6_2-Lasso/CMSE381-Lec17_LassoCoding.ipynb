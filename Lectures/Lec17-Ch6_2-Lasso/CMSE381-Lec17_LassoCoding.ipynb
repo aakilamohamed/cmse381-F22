{
 "cells": [
  {
   "cell_type": "markdown",
   "id": "4dfd68f5",
   "metadata": {},
   "source": [
    "# Lec 17 Lab: The Lasso\n",
    "## CMSE 381 - Fall 2022\n",
    "## Oct 19, 2022\n",
    "\n"
   ]
  },
  {
   "cell_type": "markdown",
   "id": "c90aa0b0",
   "metadata": {},
   "source": [
    "In this module we are going to test out the ridge/lasso methods we discussed in class from Chapter 6.2, and the PCR ideas from Chapter 6.3."
   ]
  },
  {
   "cell_type": "code",
   "execution_count": null,
   "id": "4ea3a4b4",
   "metadata": {},
   "outputs": [],
   "source": [
    "# Everyone's favorite standard imports\n",
    "import numpy as np\n",
    "import pandas as pd\n",
    "import matplotlib.pyplot as plt\n",
    "%matplotlib inline\n",
    "import time\n",
    "\n",
    "\n",
    "# ML imports we've used previously\n",
    "from sklearn.model_selection import train_test_split\n",
    "from sklearn.metrics import mean_squared_error\n",
    "\n"
   ]
  },
  {
   "cell_type": "markdown",
   "id": "81f9a257",
   "metadata": {},
   "source": [
    "# Loading in the data\n",
    "\n",
    "Ok, here we go, let's play with a baseball data set again. Note this cleanup is all the same as the last lab. "
   ]
  },
  {
   "cell_type": "code",
   "execution_count": null,
   "id": "3ceeb83a",
   "metadata": {},
   "outputs": [],
   "source": [
    "hitters_df = pd.read_csv('Hitters.csv')\n",
    "\n",
    "# Print the dimensions of the original Hitters data (322 rows x 20 columns)\n",
    "print(\"Dimensions of original data:\", hitters_df.shape)\n",
    "\n",
    "# Drop any rows the contain missing values, along with the player names\n",
    "hitters_df = hitters_df.dropna().drop('Player', axis=1)\n",
    "\n",
    "# Replace any categorical variables with dummy variables\n",
    "hitters_df = pd.get_dummies(hitters_df, drop_first = True)\n",
    "\n",
    "hitters_df.head()"
   ]
  },
  {
   "cell_type": "code",
   "execution_count": null,
   "id": "4672d6f6",
   "metadata": {
    "scrolled": true
   },
   "outputs": [],
   "source": [
    "y = hitters_df.Salary\n",
    "\n",
    "# Drop the column with the independent variable (Salary)\n",
    "X = hitters_df.drop(['Salary'], axis = 1).astype('float64')\n",
    "\n",
    "X.info()"
   ]
  },
  {
   "cell_type": "markdown",
   "id": "b7a90a0a",
   "metadata": {},
   "source": [
    "We had an issue last class with normalization. While there are internal methods from `scikitlearn` to do this, they make the code more complicated, so for now, let's just do it manually. "
   ]
  },
  {
   "cell_type": "code",
   "execution_count": null,
   "id": "97979272",
   "metadata": {},
   "outputs": [],
   "source": [
    "# Manually normalizing \n",
    "\n",
    "X_Normalized = X/X.std() # Note that X.std() is a list of columns, so this does it columnwise\n",
    "X_Normalized"
   ]
  },
  {
   "cell_type": "markdown",
   "id": "a76813de",
   "metadata": {},
   "source": [
    "Finally lets get a simple train/test split to work with (Validation style), and a list of $\\alpha$s to test for our Lasso."
   ]
  },
  {
   "cell_type": "code",
   "execution_count": null,
   "id": "abbf296e",
   "metadata": {},
   "outputs": [],
   "source": [
    "# Split data into training and test sets\n",
    "X_train, X_test , y_train, y_test = train_test_split(X_Normalized, y, test_size=0.3, random_state=1)\n",
    "\n",
    "# List of alphas\n",
    "alphas = 10**np.linspace(4,-2,100)*0.5\n",
    "# alphas = np.append(alphas,0)\n",
    "alphas"
   ]
  },
  {
   "cell_type": "markdown",
   "id": "62b69746",
   "metadata": {},
   "source": [
    "# Lasso \n",
    "\n",
    "Thanks to the wonders of `scikit-learn`, now that we know how to do all this with ridge regression, translation to lasso is super easy. \n",
    "\n",
    "- [Lasso Documentation](https://scikit-learn.org/stable/modules/generated/sklearn.linear_model.Lasso.html)\n",
    "- [LassoCV Documentation](https://scikit-learn.org/stable/modules/generated/sklearn.linear_model.LassoCV.html#sklearn.linear_model.LassoCV)\n",
    "- [User guide](https://scikit-learn.org/stable/modules/linear_model.html#lasso)\n",
    "\n"
   ]
  },
  {
   "cell_type": "code",
   "execution_count": null,
   "id": "fe822edc",
   "metadata": {},
   "outputs": [],
   "source": [
    "from sklearn.linear_model import Lasso, LassoCV"
   ]
  },
  {
   "cell_type": "code",
   "execution_count": null,
   "id": "f2d7c6d7",
   "metadata": {},
   "outputs": [],
   "source": [
    "# Here's a quick lasso code for a fixed $\\alpha$\n",
    "lasso = Lasso(max_iter = 10000)\n",
    "# max_iter increases how long the lasso model tries to find a good solution\n",
    "# In our case, if I leave it at the default 1000 I was getting errors, so I\n",
    "# upped the value. \n",
    "lasso.set_params(alpha=1)\n",
    "lasso.fit(X_train, y_train)\n",
    "\n",
    "mean_squared_error(y_test,lasso.predict(X_test))\n"
   ]
  },
  {
   "cell_type": "markdown",
   "id": "3e4929bd",
   "metadata": {},
   "source": [
    "&#9989; **<font color=red>Do this:</font>** Make a few graphs similar to what we did in the previous lab, but using Lasso instead of Ridge. \n",
    "- A graph of the coeffiencts as alpha changes \n",
    "- A graph of the test mean squared error as alpha changes\n",
    "\n",
    "*Note: we did similar things in the last class, you should be able to borrow and modify code from there*"
   ]
  },
  {
   "cell_type": "code",
   "execution_count": null,
   "id": "1463365d",
   "metadata": {},
   "outputs": [],
   "source": [
    "# Your code for a graph of the coefficients goes here "
   ]
  },
  {
   "cell_type": "code",
   "execution_count": null,
   "id": "9c6b2936",
   "metadata": {},
   "outputs": [],
   "source": [
    "# Your code for a graph of the MSEs goes here\n"
   ]
  },
  {
   "cell_type": "markdown",
   "id": "372b7ab6",
   "metadata": {},
   "source": [
    "&#9989; **<font color=red>Do this:</font>** Now try what we did with `LassoCV`.  What choice of $\\alpha$ does it recommend? \n",
    "\n",
    "*I would actually recommend either not passing in any $\\alpha$ list or passing explicitly `alphas = None`. `RidgeCV` can't do this, but `LassoCV` will automatically try to find good choices of $\\alpha$ for you.*"
   ]
  },
  {
   "cell_type": "code",
   "execution_count": null,
   "id": "7fe50336",
   "metadata": {},
   "outputs": [],
   "source": [
    "# Your code here"
   ]
  },
  {
   "cell_type": "markdown",
   "id": "c4d3ee5d",
   "metadata": {},
   "source": [
    "Now let's take a look at some of the coefficients. "
   ]
  },
  {
   "cell_type": "code",
   "execution_count": null,
   "id": "691eabf1",
   "metadata": {
    "scrolled": true
   },
   "outputs": [],
   "source": [
    "# Some of the coefficients are now reduced to exactly zero.\n",
    "pd.Series(lassocv.coef_, index=X.columns)"
   ]
  },
  {
   "cell_type": "markdown",
   "id": "a56b02f1",
   "metadata": {},
   "source": [
    "&#9989; **<font color=red>Q:</font>** We've been repeating over and over that lasso gives us coefficients that are actually 0.  At least in my code, I'm not seeing any that are 0. What happened? Can I change something to get more 0 entries? \n",
    "\n",
    "*Your answer here*"
   ]
  },
  {
   "cell_type": "code",
   "execution_count": null,
   "id": "7da8e0a7",
   "metadata": {},
   "outputs": [],
   "source": [
    "# You might also want some code in here to try to figure it out"
   ]
  },
  {
   "cell_type": "markdown",
   "id": "66f79113",
   "metadata": {},
   "source": [
    "\n",
    "\n",
    "-----\n",
    "### Congratulations, we're done!\n",
    "Written by Dr. Liz Munch, Michigan State University\n",
    "\n",
    "<a rel=\"license\" href=\"http://creativecommons.org/licenses/by-nc/4.0/\"><img alt=\"Creative Commons License\" style=\"border-width:0\" src=\"https://i.creativecommons.org/l/by-nc/4.0/88x31.png\" /></a><br />This work is licensed under a <a rel=\"license\" href=\"http://creativecommons.org/licenses/by-nc/4.0/\">Creative Commons Attribution-NonCommercial 4.0 International License</a>."
   ]
  },
  {
   "cell_type": "code",
   "execution_count": null,
   "id": "3fb8354f",
   "metadata": {},
   "outputs": [],
   "source": []
  }
 ],
 "metadata": {
  "kernelspec": {
   "display_name": "Python 3 (ipykernel)",
   "language": "python",
   "name": "python3"
  },
  "language_info": {
   "codemirror_mode": {
    "name": "ipython",
    "version": 3
   },
   "file_extension": ".py",
   "mimetype": "text/x-python",
   "name": "python",
   "nbconvert_exporter": "python",
   "pygments_lexer": "ipython3",
   "version": "3.9.7"
  }
 },
 "nbformat": 4,
 "nbformat_minor": 5
}
