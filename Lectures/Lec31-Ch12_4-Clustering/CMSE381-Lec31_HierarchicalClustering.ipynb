{
 "cells": [
  {
   "cell_type": "markdown",
   "id": "4dfd68f5",
   "metadata": {},
   "source": [
    "# Lec 31: Hierarchical Clustering\n",
    "## CMSE 381 - Fall 2022\n",
    "## Dec 5, 2022\n",
    "\n",
    "\n",
    "<img src=\"https://docs.scipy.org/doc/scipy/_images/scipy-cluster-hierarchy-dendrogram-1_01.png\" alt=\"Dendrogram\" width=\"600\"/>"
   ]
  },
  {
   "cell_type": "code",
   "execution_count": null,
   "id": "4ea3a4b4",
   "metadata": {},
   "outputs": [],
   "source": [
    "# Everyone's favorite standard imports\n",
    "import numpy as np\n",
    "import pandas as pd\n",
    "import matplotlib as mpl\n",
    "import matplotlib.pyplot as plt\n",
    "%matplotlib inline\n",
    "import time\n",
    "\n",
    "\n"
   ]
  },
  {
   "cell_type": "markdown",
   "id": "29790454",
   "metadata": {},
   "source": [
    "I've made us some data, easy case first, where we've got data that I made drawing from three clusters. You can probably look at the picture and figure out what they should be. "
   ]
  },
  {
   "cell_type": "code",
   "execution_count": null,
   "id": "a248dc77",
   "metadata": {
    "scrolled": true
   },
   "outputs": [],
   "source": [
    "X = np.loadtxt('Clustering-ToyData.csv')\n",
    "plt.scatter(X[:,0],X[:,1])"
   ]
  },
  {
   "cell_type": "markdown",
   "id": "a9aeac99",
   "metadata": {},
   "source": [
    "But notice that when I look at the order the points are included in the matrix, it's got nothing to do with the order that the points came in the matrix."
   ]
  },
  {
   "cell_type": "code",
   "execution_count": null,
   "id": "b9689458",
   "metadata": {},
   "outputs": [],
   "source": [
    "plt.scatter(X[:,0],X[:,1], c = list(range(X.shape[0])))\n",
    "plt.colorbar()\n",
    "plt.title('Colored by order of points in the matrix')"
   ]
  },
  {
   "cell_type": "markdown",
   "id": "9cca3541",
   "metadata": {},
   "source": [
    "The next thing we can do is look at the *distance matrix* of the points, which is a square matrix for which entry `D[i,j]` is the distance between points `i` and `j`. "
   ]
  },
  {
   "cell_type": "code",
   "execution_count": null,
   "id": "6d154afc",
   "metadata": {},
   "outputs": [],
   "source": [
    "from scipy.spatial import distance_matrix\n",
    "\n",
    "D = distance_matrix(X,X)\n",
    "\n",
    "plt.matshow(D)\n",
    "plt.colorbar()"
   ]
  },
  {
   "cell_type": "markdown",
   "id": "b5c658af",
   "metadata": {},
   "source": [
    "There are lots of controls in that function including messing with the choice of distances between the points, but for now we'll leave it at the good ol' fashioned Euclidean distance, \n",
    "$$\n",
    "\\| x - y \\| = \\sqrt{ \\sum_k (x_k-y_k)^2 }.\n",
    "$$"
   ]
  },
  {
   "cell_type": "markdown",
   "id": "74d0c312",
   "metadata": {},
   "source": [
    "Before we go on, here's a trick for figuring out where a particular data point is."
   ]
  },
  {
   "cell_type": "code",
   "execution_count": null,
   "id": "f057997e",
   "metadata": {},
   "outputs": [],
   "source": [
    "# I want to find point 53\n",
    "\n",
    "colors = np.zeros(X.shape[0])\n",
    "colors[53] = -1 #<--- Make the color of point 53 different from the others\n",
    "\n",
    "plt.scatter(X[:,0],X[:,1], c = colors)\n",
    "plt.colorbar()\n",
    "plt.title('Colored by order of points in the matrix')\n",
    "print('Distance:', D[18,7])"
   ]
  },
  {
   "cell_type": "markdown",
   "id": "ffe55ef5",
   "metadata": {},
   "source": [
    "&#9989; **<font color=red>Answer these:</font>** \n",
    "- Where are the 7th and 18th (according to python numbering) points in the scatter plot above? \n",
    "- Are they in the same cluster (based on eyeballing it) or different clusters?\n",
    "- What is the distance between the 7th and 18th points? Use the distance matrix to figure it out \n"
   ]
  },
  {
   "cell_type": "code",
   "execution_count": null,
   "id": "37a6d8ab",
   "metadata": {},
   "outputs": [],
   "source": [
    "# Your code here #"
   ]
  },
  {
   "cell_type": "markdown",
   "id": "fb9d77e1",
   "metadata": {},
   "source": [
    "I can also play around with looking at the connections like in class, where we connect up points within distance $r$ of each other.  Mess around with the $r$ value below to see what changes. Be careful: large $r$ values wil make for slow drawing."
   ]
  },
  {
   "cell_type": "code",
   "execution_count": null,
   "id": "dae92ed7",
   "metadata": {},
   "outputs": [],
   "source": [
    "plt.scatter(X[:,0],X[:,1])\n",
    "\n",
    "r = 0.3\n",
    "\n",
    "for i in range(X.shape[0]):\n",
    "    for j in range(X.shape[0]):\n",
    "        if D[i,j] <= r:\n",
    "            p = X[(i,j),:]\n",
    "            plt.plot(p[:,0],p[:,1],c = 'black')"
   ]
  },
  {
   "cell_type": "markdown",
   "id": "53bd3204",
   "metadata": {},
   "source": [
    "This matrix is very helpful for understanding distances, however, my code in just a moment is going to need the `condensed` distance matrix. It turns out that it has the same information as the above distance matrix, just flattened out. For our purposes, you won't need to fully understand this but the curious can go check out the [documentation](https://docs.scipy.org/doc/scipy/reference/generated/scipy.spatial.distance.pdist.html)."
   ]
  },
  {
   "cell_type": "code",
   "execution_count": null,
   "id": "9ff58b84",
   "metadata": {},
   "outputs": [],
   "source": [
    "from scipy.spatial.distance import pdist\n",
    "\n",
    "P = pdist(X)\n",
    "P.shape"
   ]
  },
  {
   "cell_type": "markdown",
   "id": "80712bad",
   "metadata": {},
   "source": [
    "And with that, we can get `scipy` to compute our dendrogram for us!"
   ]
  },
  {
   "cell_type": "code",
   "execution_count": null,
   "id": "a6a17021",
   "metadata": {},
   "outputs": [],
   "source": [
    "from scipy.cluster import hierarchy"
   ]
  },
  {
   "cell_type": "code",
   "execution_count": null,
   "id": "d266d9a2",
   "metadata": {},
   "outputs": [],
   "source": [
    "Z = hierarchy.linkage(pdist(X), 'single')\n",
    "\n",
    "plt.figure()\n",
    "\n",
    "dn = hierarchy.dendrogram(Z)\n"
   ]
  },
  {
   "cell_type": "markdown",
   "id": "f63c3f50",
   "metadata": {},
   "source": [
    "First thing to notice, it automatically gives me some color visual guesses for what it thinks the threshold should be for clustering. Hunting around in the [documentation](https://docs.scipy.org/doc/scipy/reference/generated/scipy.cluster.hierarchy.dendrogram.html), it turns out it chooses this threshold based on some information in the linkage diagram......"
   ]
  },
  {
   "cell_type": "code",
   "execution_count": null,
   "id": "5d02dd84",
   "metadata": {},
   "outputs": [],
   "source": [
    "h = 0.7*max(Z[:,2])  #<---- this equation is what it uses to pick the cutoff\n",
    "print('Chosen threshold:', h)"
   ]
  },
  {
   "cell_type": "markdown",
   "id": "e0f540bc",
   "metadata": {},
   "source": [
    ",,,but we can also control the cutoff that it draws the colors"
   ]
  },
  {
   "cell_type": "code",
   "execution_count": null,
   "id": "ad2ff7db",
   "metadata": {
    "scrolled": true
   },
   "outputs": [],
   "source": [
    "thresh_height = 0.5\n",
    "\n",
    "dn = hierarchy.dendrogram(Z, color_threshold = thresh_height)\n",
    "plt.axhline(y = thresh_height, color = 'r', linestyle = '-')"
   ]
  },
  {
   "cell_type": "markdown",
   "id": "0bdf83b0",
   "metadata": {},
   "source": [
    "&#9989; **<font color=red>Q:</font>** How many clusters are there if we have a cutoff of 2.0? What about for 0.5?\n"
   ]
  },
  {
   "cell_type": "code",
   "execution_count": null,
   "id": "c96605e3",
   "metadata": {},
   "outputs": [],
   "source": [
    "# Your code here #"
   ]
  },
  {
   "cell_type": "markdown",
   "id": "d8b9bc19",
   "metadata": {},
   "source": [
    "Now the magic is that we have the ability to extract the clusters based on the chosen threshold. "
   ]
  },
  {
   "cell_type": "code",
   "execution_count": null,
   "id": "31bb7199",
   "metadata": {
    "scrolled": true
   },
   "outputs": [],
   "source": [
    "colors = hierarchy.fcluster(Z,h,criterion = 'distance')\n",
    "\n",
    "plt.scatter(X[:,0],X[:,1],c = colors)\n"
   ]
  },
  {
   "cell_type": "markdown",
   "id": "60211edc",
   "metadata": {},
   "source": [
    "&#9989; **<font color=red>Q:</font>** Where are the clusters associated to a threshold of 2.0? What about 0.5?\n"
   ]
  },
  {
   "cell_type": "code",
   "execution_count": null,
   "id": "62dd4c4b",
   "metadata": {},
   "outputs": [],
   "source": [
    "# Your code here #"
   ]
  },
  {
   "cell_type": "code",
   "execution_count": null,
   "id": "9afe7d35",
   "metadata": {},
   "outputs": [],
   "source": [
    "# Your code here #"
   ]
  },
  {
   "cell_type": "markdown",
   "id": "516e844d",
   "metadata": {},
   "source": [
    "## A nastier example\n",
    "\n",
    "I made another data set that's a bit more ambiguous. How many clusters are there? 2? 3? Ok, ok, let's not fight about it. I actually made it using three centers of a normal distribution, but one could argue whether there's two cleanly split clusters, or whether this is related to density and therefore there are 3. "
   ]
  },
  {
   "cell_type": "code",
   "execution_count": null,
   "id": "eba9b391",
   "metadata": {
    "scrolled": true
   },
   "outputs": [],
   "source": [
    "X = np.loadtxt('Clustering-ToyData2.csv')\n",
    "plt.scatter(X[:,0],X[:,1])"
   ]
  },
  {
   "cell_type": "markdown",
   "id": "dbc39e13",
   "metadata": {},
   "source": [
    "&#9989; **<font color=red>Q:</font>** Draw the single linkage cluster dendogram as above. \n",
    "- Is there a reasonable choice of threshold? \n",
    "- Using this threshold, how many clusters are there? \n",
    "- Draw the cluster assignments on the points using some choice of threshold, reasonable or not. \n"
   ]
  },
  {
   "cell_type": "code",
   "execution_count": null,
   "id": "df831a9b",
   "metadata": {},
   "outputs": [],
   "source": [
    "# Your code here #"
   ]
  },
  {
   "cell_type": "markdown",
   "id": "8b0fec29",
   "metadata": {},
   "source": [
    "Now, we can mess with the choice of linkage to see how this changes the clustering assignment. \n",
    "\n"
   ]
  },
  {
   "cell_type": "markdown",
   "id": "dc1c7817",
   "metadata": {},
   "source": [
    "&#9989; **<font color=red>Q:</font>** Modify your linkage to use `complete` instead of `single` and draw the resulting dendrogram.\n",
    "- Is there a reasonable choice of threshold? \n",
    "- Using this threshold, how many clusters are there? \n",
    "- Draw the cluster assignments on the points using some choice of threshold, reasonable or not. \n"
   ]
  },
  {
   "cell_type": "code",
   "execution_count": null,
   "id": "1c769f05",
   "metadata": {},
   "outputs": [],
   "source": [
    "# Your code here #"
   ]
  },
  {
   "cell_type": "markdown",
   "id": "66f79113",
   "metadata": {},
   "source": [
    "\n",
    "\n",
    "-----\n",
    "### Congratulations, we're done!\n",
    "Written by Dr. Liz Munch, Michigan State University\n",
    "\n",
    "<a rel=\"license\" href=\"http://creativecommons.org/licenses/by-nc/4.0/\"><img alt=\"Creative Commons License\" style=\"border-width:0\" src=\"https://i.creativecommons.org/l/by-nc/4.0/88x31.png\" /></a><br />This work is licensed under a <a rel=\"license\" href=\"http://creativecommons.org/licenses/by-nc/4.0/\">Creative Commons Attribution-NonCommercial 4.0 International License</a>."
   ]
  },
  {
   "cell_type": "code",
   "execution_count": null,
   "id": "3fb8354f",
   "metadata": {},
   "outputs": [],
   "source": []
  }
 ],
 "metadata": {
  "kernelspec": {
   "display_name": "Python 3 (ipykernel)",
   "language": "python",
   "name": "python3"
  },
  "language_info": {
   "codemirror_mode": {
    "name": "ipython",
    "version": 3
   },
   "file_extension": ".py",
   "mimetype": "text/x-python",
   "name": "python",
   "nbconvert_exporter": "python",
   "pygments_lexer": "ipython3",
   "version": "3.9.7"
  }
 },
 "nbformat": 4,
 "nbformat_minor": 5
}
