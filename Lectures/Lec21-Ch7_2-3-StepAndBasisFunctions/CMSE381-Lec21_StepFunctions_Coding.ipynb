{
 "cells": [
  {
   "cell_type": "markdown",
   "id": "4dfd68f5",
   "metadata": {},
   "source": [
    "# Lec 21 - Step Functions\n",
    "## CMSE 381 - Fall 2022\n",
    "## Nov 7, 2022\n",
    "\n"
   ]
  },
  {
   "cell_type": "markdown",
   "id": "c90aa0b0",
   "metadata": {},
   "source": [
    "We're going to try again with the step functions."
   ]
  },
  {
   "cell_type": "code",
   "execution_count": null,
   "id": "4ea3a4b4",
   "metadata": {},
   "outputs": [],
   "source": [
    "# Everyone's favorite standard imports\n",
    "import numpy as np\n",
    "import pandas as pd\n",
    "import matplotlib.pyplot as plt\n",
    "%matplotlib inline\n",
    "import time\n",
    "\n",
    "\n",
    "# ML imports we've used previously\n",
    "from sklearn.model_selection import train_test_split\n",
    "from sklearn.metrics import mean_squared_error\n",
    "from sklearn.linear_model import LinearRegression\n",
    "\n",
    "import statsmodels.api as sm\n"
   ]
  },
  {
   "cell_type": "markdown",
   "id": "81f9a257",
   "metadata": {},
   "source": [
    "# 0. Loading in the data\n",
    "\n",
    "We're going to use the `Wage` data used in the book, so note that many of your plots can be checked by looking at figures in the book."
   ]
  },
  {
   "cell_type": "code",
   "execution_count": null,
   "id": "3ceeb83a",
   "metadata": {},
   "outputs": [],
   "source": [
    "df = pd.read_csv('Wage.csv', index_col =0 )\n",
    "df.head()"
   ]
  },
  {
   "cell_type": "code",
   "execution_count": null,
   "id": "903ebb82",
   "metadata": {},
   "outputs": [],
   "source": [
    "df.info()"
   ]
  },
  {
   "cell_type": "code",
   "execution_count": null,
   "id": "1bc159e5",
   "metadata": {},
   "outputs": [],
   "source": [
    "df.describe()"
   ]
  },
  {
   "cell_type": "markdown",
   "id": "68b20448",
   "metadata": {},
   "source": [
    "Here's the plot we used multiple times in class to look at a single variable:  `age` vs `wage`"
   ]
  },
  {
   "cell_type": "code",
   "execution_count": null,
   "id": "b90464f2",
   "metadata": {},
   "outputs": [],
   "source": [
    "plt.scatter(df.age,df.wage)\n",
    "plt.xlabel('Age')\n",
    "plt.ylabel('Wage')"
   ]
  },
  {
   "cell_type": "markdown",
   "id": "fd9fabbe",
   "metadata": {},
   "source": [
    "# 2. Step functions\n",
    "\n",
    "Now let's try to use step functions to learn a model using `age` to predict `wage`. Like with the polynomial example from last time, all we're going to do is build a data frame or feature matrix that has the step function values in each column, and then pass that matrix to our favorite linear modeling function. \n",
    "\n",
    "First, we want to get a dataframe with the cuts. "
   ]
  },
  {
   "cell_type": "code",
   "execution_count": null,
   "id": "02327445",
   "metadata": {},
   "outputs": [],
   "source": [
    "df_cut, bins = pd.cut(df.age, 4, retbins = True, right = False)\n"
   ]
  },
  {
   "cell_type": "markdown",
   "id": "c3df3fe6",
   "metadata": {},
   "source": [
    "I will define the entries in the bins to be the $c_i$'s as follows. \n"
   ]
  },
  {
   "cell_type": "code",
   "execution_count": null,
   "id": "5c695a19",
   "metadata": {},
   "outputs": [],
   "source": [
    "print(bins)"
   ]
  },
  {
   "cell_type": "code",
   "execution_count": null,
   "id": "8bae1bec",
   "metadata": {},
   "outputs": [],
   "source": [
    "print(r'c_1 = ', bins[0])\n",
    "print(r'c_2 = ', bins[1])\n",
    "print(r'c_3 = ', bins[2])\n",
    "print(r'c_4 = ', bins[3])\n",
    "print(r'c_5 = ', bins[4])"
   ]
  },
  {
   "cell_type": "markdown",
   "id": "a4339dc0",
   "metadata": {},
   "source": [
    "&#9989; **<font color=red>Do this:</font>**\n",
    " For each of the functions $C_0(X)$, $C_1(X)$, $C_2(X)$, $C_3(X)$, $C_4(X)$, $C_5(X)$ (following our notation in class), determine the domains where they have value 1. "
   ]
  },
  {
   "cell_type": "markdown",
   "id": "58c1b069",
   "metadata": {},
   "source": [
    "*Your answer here*\n",
    "\n",
    "- $C_0(X)$:\n",
    "- $C_1(X)$:\n",
    "- $C_2(X)$: \n",
    "- $C_3(X)$: \n",
    "- $C_4(X)$: \n",
    "- $C_5(X)$: "
   ]
  },
  {
   "cell_type": "markdown",
   "id": "337986cf",
   "metadata": {},
   "source": [
    "Below is my code that generates the data frame storing $C_i(X)$ for all our entries. "
   ]
  },
  {
   "cell_type": "code",
   "execution_count": null,
   "id": "e8e4bbe8",
   "metadata": {
    "scrolled": false
   },
   "outputs": [],
   "source": [
    "df_steps_dummies = pd.get_dummies(df_cut)\n",
    "df_steps_dummies.head()"
   ]
  },
  {
   "cell_type": "markdown",
   "id": "3b2d4c7d",
   "metadata": {},
   "source": [
    "&#9989; **<font color=red>Q:</font>** Which of the functions $C_i(X)$ for $i=0,\\cdots, 5$ have columns represented in this matrix? *Note: it's not all of them*\n"
   ]
  },
  {
   "cell_type": "markdown",
   "id": "bf50adfc",
   "metadata": {},
   "source": [
    "* Your answer here*"
   ]
  },
  {
   "cell_type": "markdown",
   "id": "6ab7ef58",
   "metadata": {},
   "source": [
    "&#9989; **<font color=red>Do this:</font>** Pass this matrix to a linear regression model and use it to predict `wage`. What is the equation for your learned model? Be specific in terms of the $C_i$ functions you learned earlier."
   ]
  },
  {
   "cell_type": "code",
   "execution_count": null,
   "id": "687737a7",
   "metadata": {},
   "outputs": [],
   "source": [
    "# Your code here #"
   ]
  },
  {
   "cell_type": "markdown",
   "id": "7b54e363",
   "metadata": {},
   "source": [
    "&#9989; **<font color=red>Do this:</font>** Using the function $f(X)$ you just learned, what is the function value on each of the following values of $X$?\n",
    "\n",
    "| X  | f(X)| \n",
    "| ---| --- | \n",
    "| 10 |     |\n",
    "| 20 |     |\n",
    "| 30 |     | \n",
    "| 40 |     |\n",
    "| 50 |     | \n",
    "| 60 |     | \n",
    "| 70 |     |\n",
    "| 80 |     |\n",
    "\n"
   ]
  },
  {
   "cell_type": "markdown",
   "id": "6bfec3c2",
   "metadata": {},
   "source": [
    "Assuming you stored your linear regression model as `linreg`, the following code will plot the learned function. Check that the answers you got in the table above match with what you're seeing in the graph.  "
   ]
  },
  {
   "cell_type": "code",
   "execution_count": null,
   "id": "a1be4bc6",
   "metadata": {
    "scrolled": false
   },
   "outputs": [],
   "source": [
    "t = np.linspace(10,80,100)\n",
    "\n",
    "bin_mapping = np.digitize(t, bins)\n",
    "\n",
    "# print(bin_mapping)\n",
    "t_dummies = pd.get_dummies(bin_mapping)\n",
    "t_dummies = t_dummies.drop(columns =[0])\n",
    "\n",
    "stepPredict = linreg.predict(t_dummies) #<---- If you named your linear regression \n",
    "                                        #      something else, you can fix this to match.\n",
    "            \n",
    "#--------Uncomment below to draw the scatter plot of the data as well-------#\n",
    "# plt.scatter(df.age,df.wage,marker = '+')\n",
    "# plt.xlabel('Age')\n",
    "# plt.ylabel('Wage')\n",
    "\n",
    "plt.plot(t,stepPredict,color='red')"
   ]
  },
  {
   "cell_type": "markdown",
   "id": "959a8e3e",
   "metadata": {},
   "source": [
    "\n",
    "![Stop Icon](https://upload.wikimedia.org/wikipedia/commons/thumb/1/1e/Vienna_Convention_road_sign_B2a.svg/180px-Vienna_Convention_road_sign_B2a.svg.png)\n",
    "\n",
    "Great, you got to here! Hang out for a bit, there's more lecture before we go on to the next portion. "
   ]
  },
  {
   "cell_type": "markdown",
   "id": "4eaee405",
   "metadata": {},
   "source": [
    "# 3.  Classification version \n",
    "\n",
    "Now we can try out the classification version of the problem. Let's build the classifier that predicts whether a person of a given age will make more than $250,000. You already made the matrix of step function features, so we just have to hand it to `LogisticRegression` to do its thing."
   ]
  },
  {
   "cell_type": "code",
   "execution_count": null,
   "id": "e2a887bc",
   "metadata": {},
   "outputs": [],
   "source": [
    "\n",
    "plt.scatter(df.age[df.wage <=250], df.wage[df.wage<=250],marker = '*')\n",
    "plt.scatter(df.age[df.wage >250], df.wage[df.wage>250])\n",
    "\n",
    "plt.xlabel('Age')\n",
    "plt.ylabel('Wage')\n",
    "\n",
    "# plt.savefig('WageColoredBy250.png', bbox_inches = 'tight')\n"
   ]
  },
  {
   "cell_type": "code",
   "execution_count": null,
   "id": "5abe7ed1",
   "metadata": {},
   "outputs": [],
   "source": [
    "from sklearn.linear_model import LogisticRegression"
   ]
  },
  {
   "cell_type": "code",
   "execution_count": null,
   "id": "03d76747",
   "metadata": {},
   "outputs": [],
   "source": [
    "y = np.array(df.wage>250) #<--- this makes sure I \n",
    "                          #     just have true/false input\n",
    "clf = LogisticRegression(random_state=48824)\n",
    "clf.fit(df_steps_dummies,y)"
   ]
  },
  {
   "cell_type": "code",
   "execution_count": null,
   "id": "ab9990a7",
   "metadata": {},
   "outputs": [],
   "source": [
    "f = clf.predict_proba(t_dummies)\n",
    "plt.plot(t,f[:,1])"
   ]
  },
  {
   "cell_type": "markdown",
   "id": "66f79113",
   "metadata": {},
   "source": [
    "\n",
    "\n",
    "-----\n",
    "### Congratulations, we're done!\n",
    "Written by Dr. Liz Munch, Michigan State University\n",
    "\n",
    "<a rel=\"license\" href=\"http://creativecommons.org/licenses/by-nc/4.0/\"><img alt=\"Creative Commons License\" style=\"border-width:0\" src=\"https://i.creativecommons.org/l/by-nc/4.0/88x31.png\" /></a><br />This work is licensed under a <a rel=\"license\" href=\"http://creativecommons.org/licenses/by-nc/4.0/\">Creative Commons Attribution-NonCommercial 4.0 International License</a>."
   ]
  },
  {
   "cell_type": "code",
   "execution_count": null,
   "id": "3fb8354f",
   "metadata": {},
   "outputs": [],
   "source": []
  }
 ],
 "metadata": {
  "kernelspec": {
   "display_name": "Python 3 (ipykernel)",
   "language": "python",
   "name": "python3"
  },
  "language_info": {
   "codemirror_mode": {
    "name": "ipython",
    "version": 3
   },
   "file_extension": ".py",
   "mimetype": "text/x-python",
   "name": "python",
   "nbconvert_exporter": "python",
   "pygments_lexer": "ipython3",
   "version": "3.9.7"
  }
 },
 "nbformat": 4,
 "nbformat_minor": 5
}
