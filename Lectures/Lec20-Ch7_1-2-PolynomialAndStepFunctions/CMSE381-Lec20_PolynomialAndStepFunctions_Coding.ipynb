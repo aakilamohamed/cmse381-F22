{
 "cells": [
  {
   "cell_type": "markdown",
   "id": "4dfd68f5",
   "metadata": {},
   "source": [
    "# Lec 20 - Polynomial Regression and Step Functions\n",
    "## CMSE 381 - Fall 2022\n",
    "## Nov 4, 2022\n",
    "\n"
   ]
  },
  {
   "cell_type": "markdown",
   "id": "c90aa0b0",
   "metadata": {},
   "source": [
    "In this module we are going to implement polynomial regression and step functions as discussed in class."
   ]
  },
  {
   "cell_type": "code",
   "execution_count": null,
   "id": "4ea3a4b4",
   "metadata": {},
   "outputs": [],
   "source": [
    "# Everyone's favorite standard imports\n",
    "import numpy as np\n",
    "import pandas as pd\n",
    "import matplotlib.pyplot as plt\n",
    "%matplotlib inline\n",
    "import time\n",
    "\n",
    "\n",
    "# ML imports we've used previously\n",
    "from sklearn.model_selection import train_test_split\n",
    "from sklearn.metrics import mean_squared_error\n",
    "\n",
    "import statsmodels.api as sm\n"
   ]
  },
  {
   "cell_type": "markdown",
   "id": "81f9a257",
   "metadata": {},
   "source": [
    "# 0. Loading in the data\n",
    "\n",
    "We're going to use the `Wage` data used in the book, so note that many of your plots can be checked by looking at figures in the book."
   ]
  },
  {
   "cell_type": "code",
   "execution_count": null,
   "id": "3ceeb83a",
   "metadata": {},
   "outputs": [],
   "source": [
    "df = pd.read_csv('Wage.csv', index_col =0 )\n",
    "df.head()"
   ]
  },
  {
   "cell_type": "code",
   "execution_count": null,
   "id": "903ebb82",
   "metadata": {},
   "outputs": [],
   "source": [
    "df.info()"
   ]
  },
  {
   "cell_type": "code",
   "execution_count": null,
   "id": "1bc159e5",
   "metadata": {},
   "outputs": [],
   "source": [
    "df.describe()"
   ]
  },
  {
   "cell_type": "markdown",
   "id": "68b20448",
   "metadata": {},
   "source": [
    "Here's the plot we used multiple times in class to look at a single variable:  `age` vs `wage`"
   ]
  },
  {
   "cell_type": "code",
   "execution_count": null,
   "id": "b90464f2",
   "metadata": {},
   "outputs": [],
   "source": [
    "plt.scatter(df.age,df.wage)\n",
    "plt.xlabel('Age')\n",
    "plt.ylabel('Wage')"
   ]
  },
  {
   "cell_type": "markdown",
   "id": "3a924e5a",
   "metadata": {},
   "source": [
    "&#9989; **<font color=red>Do this:</font>** Modify the plot above so that the people earning above 250 are in a different color and/or symbol set.\n",
    "\n",
    "\n"
   ]
  },
  {
   "cell_type": "code",
   "execution_count": null,
   "id": "58a29309",
   "metadata": {},
   "outputs": [],
   "source": [
    "# Your code here "
   ]
  },
  {
   "cell_type": "markdown",
   "id": "0e0398b5",
   "metadata": {},
   "source": [
    "# 1. Polynomial Regression \n",
    "\n",
    "Our first step is to build a polynomial regression model using the age data to predict wage.  So, as in class, we are in $p=1$ world here where we are going to fit the model\n",
    "$$\n",
    "\\texttt{wage} = \\beta_0 + \\beta_1 \\texttt{age} + \\beta_2 \\texttt{age}^2 + \\cdots + \\beta_p \\texttt{age}^p +\\varepsilon.\n",
    "$$\n",
    "\n",
    "The trick here is to build a matrix $X$ which has a column containing `age`, one with `age^2`, one with `age^3`, etc.  Then we hand this to your favorite regression tool (it doesn't need to know it's getting polynomial matrix inputs, it just sees a matrix of features and does it's thing). \n",
    "\n",
    "So, here's some code to take our $\\texttt{age}$ data column and create a bunch of new columns in our data frame that are simply each the $k$th power of the `age` column"
   ]
  },
  {
   "cell_type": "code",
   "execution_count": null,
   "id": "681f4ddb",
   "metadata": {},
   "outputs": [],
   "source": [
    "# Here's the column I care about\n",
    "df.age"
   ]
  },
  {
   "cell_type": "code",
   "execution_count": null,
   "id": "853a6344",
   "metadata": {},
   "outputs": [],
   "source": [
    "# Here's one way to get out the pandas series that squares\n",
    "# each entry\n",
    "df.age.apply(lambda x: x**2)"
   ]
  },
  {
   "cell_type": "markdown",
   "id": "cf8f8d51",
   "metadata": {},
   "source": [
    "&#9989; **<font color=red>Do this:</font>** Use the code above (or any other tricks you might know) to generate a data frame called `polydf` with 4 columns, where the $k$th column has $\\texttt{age}^k$\n",
    "\n",
    "\n"
   ]
  },
  {
   "cell_type": "code",
   "execution_count": null,
   "id": "933012f9",
   "metadata": {},
   "outputs": [],
   "source": [
    "# Your code here #"
   ]
  },
  {
   "cell_type": "markdown",
   "id": "fefe1fd5",
   "metadata": {},
   "source": [
    "Did I need to make you do that? It turns out no. As with many things we've talked about in class, there is already some automated code for us to work with.  In this case, the only difference is that it will hand us back a matrix rather than a data frame. "
   ]
  },
  {
   "cell_type": "code",
   "execution_count": null,
   "id": "438db0c8",
   "metadata": {},
   "outputs": [],
   "source": [
    "from sklearn.preprocessing import PolynomialFeatures"
   ]
  },
  {
   "cell_type": "code",
   "execution_count": null,
   "id": "c26af8e1",
   "metadata": {},
   "outputs": [],
   "source": [
    "poly = PolynomialFeatures(4)\n",
    "X = poly.fit_transform(df.age.values.reshape(-1,1)) #<--- this nastyness is because it wants to be handed a matrix\n",
    "X[:10,:]"
   ]
  },
  {
   "cell_type": "markdown",
   "id": "29044ac2",
   "metadata": {},
   "source": [
    "&#9989; **<font color=red>Q:</font>** What other major difference do you notice between the dataframe you constructed above and the matrix provided here? Why do you think that is happening?\n",
    "\n",
    "*Your answer here*\n",
    "\n",
    "\n",
    "\n"
   ]
  },
  {
   "cell_type": "code",
   "execution_count": null,
   "id": "40f605fe",
   "metadata": {},
   "outputs": [],
   "source": [
    "# Your code here #"
   ]
  },
  {
   "cell_type": "markdown",
   "id": "920e719e",
   "metadata": {},
   "source": [
    "&#9989; **<font color=red>Do this:</font>** Train a linear regression model on these features. What are the coefficients? \n"
   ]
  },
  {
   "cell_type": "code",
   "execution_count": null,
   "id": "d3c06369",
   "metadata": {},
   "outputs": [],
   "source": [
    "# Your code here #"
   ]
  },
  {
   "cell_type": "markdown",
   "id": "f2df7fb5",
   "metadata": {},
   "source": [
    "&#9989; **<font color=red>Q:</font>** What is the equation for the polynomial that you learned? \n",
    "\n",
    "*Your equation here*"
   ]
  },
  {
   "cell_type": "markdown",
   "id": "226ce85b",
   "metadata": {},
   "source": [
    "&#9989; **<font color=red>Do this:</font>** Draw the polynomial that you learned on top of the age vs wage plot. Note that you can either do this using the polynomial you just figured out, or by using the model you just set up to predict the values. In either case, use the vector of ages `t` below."
   ]
  },
  {
   "cell_type": "code",
   "execution_count": null,
   "id": "1d4970e4",
   "metadata": {},
   "outputs": [],
   "source": [
    "# Your code here #\n",
    "t = np.linspace(10,100,100)"
   ]
  },
  {
   "cell_type": "markdown",
   "id": "16e645bd",
   "metadata": {},
   "source": [
    "\n",
    "![Stop Icon](https://upload.wikimedia.org/wikipedia/commons/thumb/1/1e/Vienna_Convention_road_sign_B2a.svg/180px-Vienna_Convention_road_sign_B2a.svg.png)\n",
    "\n",
    "Great, you got to here! Hang out for a bit, there's more lecture before we go on to the next portion. "
   ]
  },
  {
   "cell_type": "markdown",
   "id": "a49feca0",
   "metadata": {},
   "source": [
    "# 2. Step functions\n",
    "\n",
    "Now let's try to use step functions to learn a model. Like with the polynomial example above, all we're going to do is build a data frame or feature matrix that has the step function values in each column, and then pass that matrix to our favorite linear modeling function. \n",
    "\n",
    "First off, it's easy to find the locations for the knots, which are the places where we switch step functions. Here's the pandas `cut` command, which in this case on some toy data, gives me 3 equal-sized bins, where here, equal-sized means that the width of the intervals are all the same."
   ]
  },
  {
   "cell_type": "code",
   "execution_count": null,
   "id": "31ad45e3",
   "metadata": {},
   "outputs": [],
   "source": [
    "fakeData = np.array([1, 7, 3, 5, 4, 6, 3, 3 , 10,2])\n",
    "cuts, knots = pd.cut(fakeData, 3,retbins=True, right = False)\n",
    "print(cuts)\n",
    "print(knots)"
   ]
  },
  {
   "cell_type": "markdown",
   "id": "c6c845e8",
   "metadata": {},
   "source": [
    "The `retbins=True` tells the command to return the breakpoints in the bins, which I saved in my output as `knots`. The `right=False` command makes it so that we have intervals closed on the bottom (e.g. $[3,5)$, $[5,7)$, etc), which I am simply using here to make the results match with the textbook notation. "
   ]
  },
  {
   "cell_type": "markdown",
   "id": "6ccdbeae",
   "metadata": {},
   "source": [
    "We can either see the intervals chosen by looking at the `categories` saved to the cuts, or by looking at the knots list. "
   ]
  },
  {
   "cell_type": "code",
   "execution_count": null,
   "id": "bc90f773",
   "metadata": {},
   "outputs": [],
   "source": [
    "print(cuts.categories)\n",
    "print(knots)"
   ]
  },
  {
   "cell_type": "markdown",
   "id": "c87c48a8",
   "metadata": {},
   "source": [
    "I can find out what bin the $i$th entry is mapped to by just checking the cuts list. "
   ]
  },
  {
   "cell_type": "code",
   "execution_count": null,
   "id": "d21b0e34",
   "metadata": {},
   "outputs": [],
   "source": [
    "i = 5\n",
    "print('Entry is:', fakeData[i])\n",
    "print('This comes from bin:', cuts[i])"
   ]
  },
  {
   "cell_type": "markdown",
   "id": "a1178e7e",
   "metadata": {},
   "source": [
    "We can also see how many data points ended up in each interval."
   ]
  },
  {
   "cell_type": "code",
   "execution_count": null,
   "id": "50adc324",
   "metadata": {},
   "outputs": [],
   "source": [
    "cuts.value_counts()"
   ]
  },
  {
   "cell_type": "markdown",
   "id": "314ed989",
   "metadata": {},
   "source": [
    "Once we've got this list of bins, we can build the data frame that keeps track of all the true/false values for whether a data point is in a particular interval by using the dummy variable trick. "
   ]
  },
  {
   "cell_type": "code",
   "execution_count": null,
   "id": "19d26892",
   "metadata": {},
   "outputs": [],
   "source": [
    "X_stepFunction = pd.get_dummies(cuts)\n",
    "X_stepFunction"
   ]
  },
  {
   "cell_type": "code",
   "execution_count": null,
   "id": "5a5bf19b",
   "metadata": {},
   "outputs": [],
   "source": [
    "# This might be easier to check also if we draw the \n",
    "# input X data next to the dummy variables we made\n",
    "X_stepFunction['X'] = fakeData\n",
    "X_stepFunction"
   ]
  },
  {
   "cell_type": "markdown",
   "id": "0789f6d0",
   "metadata": {},
   "source": [
    "Then, if I want to figure out which bin is assigned for some other matrix of values that I want to test, I can use the `np.digitize` function as follows."
   ]
  },
  {
   "cell_type": "code",
   "execution_count": null,
   "id": "a92c7228",
   "metadata": {},
   "outputs": [],
   "source": [
    "u = np.array([4, 6, -7, 8, 13, 25, 0, 1, np.pi])\n",
    "print(u)\n",
    "np.digitize(u,knots)"
   ]
  },
  {
   "cell_type": "markdown",
   "id": "e6f9cfb9",
   "metadata": {},
   "source": [
    "&#9989; **<font color=red>Q:</font>** What interval does each entry in the array above correspond to? In particular, we had what do the entries with 0 and 4 mean? \n",
    "\n",
    "*Your answer here* "
   ]
  },
  {
   "cell_type": "markdown",
   "id": "95074c2d",
   "metadata": {},
   "source": [
    "&#9989; **<font color=red>Do this:</font>**\n",
    "- Use the `cut` tool above to create a feature matrix for the `age` data where each column corresponds to a step function using 4 bins. \n",
    "- Drop the first bin.... remember we don't need all of our dummy variables, so we'll just use the remaining 3 to predict.\n",
    "- Pass this matrix to a linear regression model. \n",
    "\n",
    "What is the equation for your learned model? "
   ]
  },
  {
   "cell_type": "code",
   "execution_count": null,
   "id": "687737a7",
   "metadata": {},
   "outputs": [],
   "source": [
    "# Your code here #"
   ]
  },
  {
   "cell_type": "markdown",
   "id": "2cf8049c",
   "metadata": {},
   "source": [
    "&#9989; **<font color=red>Do this:</font>** Our goal is to plot the learned equation on top of the scatter plot data. To do this:\n",
    "- Plot the  original sampled data.\n",
    "- Using your linear regression model from above, predict the values on \n",
    "```\n",
    "t = np.linspace(10,100,100)\n",
    "```\n",
    "    to get a vector `y`. \n",
    "- Plot `(t,y)` on the figure. \n",
    "\n",
    "What range of ages has the highest predicted wage?"
   ]
  },
  {
   "cell_type": "markdown",
   "id": "66f79113",
   "metadata": {},
   "source": [
    "\n",
    "\n",
    "-----\n",
    "### Congratulations, we're done!\n",
    "Written by Dr. Liz Munch, Michigan State University\n",
    "\n",
    "<a rel=\"license\" href=\"http://creativecommons.org/licenses/by-nc/4.0/\"><img alt=\"Creative Commons License\" style=\"border-width:0\" src=\"https://i.creativecommons.org/l/by-nc/4.0/88x31.png\" /></a><br />This work is licensed under a <a rel=\"license\" href=\"http://creativecommons.org/licenses/by-nc/4.0/\">Creative Commons Attribution-NonCommercial 4.0 International License</a>."
   ]
  },
  {
   "cell_type": "code",
   "execution_count": null,
   "id": "3fb8354f",
   "metadata": {},
   "outputs": [],
   "source": []
  }
 ],
 "metadata": {
  "kernelspec": {
   "display_name": "Python 3 (ipykernel)",
   "language": "python",
   "name": "python3"
  },
  "language_info": {
   "codemirror_mode": {
    "name": "ipython",
    "version": 3
   },
   "file_extension": ".py",
   "mimetype": "text/x-python",
   "name": "python",
   "nbconvert_exporter": "python",
   "pygments_lexer": "ipython3",
   "version": "3.9.7"
  }
 },
 "nbformat": 4,
 "nbformat_minor": 5
}
